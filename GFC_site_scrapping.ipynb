{
 "cells": [
  {
   "cell_type": "code",
   "execution_count": 55,
   "metadata": {},
   "outputs": [],
   "source": [
    "import requests\n",
    "from bs4 import BeautifulSoup\n",
    "import pandas as pd\n",
    "import numpy as np"
   ]
  },
  {
   "cell_type": "code",
   "execution_count": 2,
   "metadata": {},
   "outputs": [],
   "source": [
    "prefix = 'https://gfc-russia.ru'\n",
    "webpage_response = requests.get('https://gfc-russia.ru/catalog.html')\n",
    "\n",
    "webpage = webpage_response.content\n",
    "soup = BeautifulSoup(webpage, 'html.parser')"
   ]
  },
  {
   "cell_type": "code",
   "execution_count": 74,
   "metadata": {},
   "outputs": [],
   "source": [
    "catalog_links = soup.find_all('a', attrs={'class': 'a88'})\n",
    "\n",
    "links = []\n",
    "strings = []\n",
    "for link in catalog_links:\n",
    "    links.append(prefix+link['href'])\n",
    "    strings.append(link.span.string)"
   ]
  },
  {
   "cell_type": "code",
   "execution_count": 75,
   "metadata": {},
   "outputs": [],
   "source": [
    "d = {'category': np.array(strings), 'link': np.array(links)}\n",
    "links_df = pd.DataFrame(d)\n",
    "links_df = links_df.loc[~links_df['category'].isin([None])]"
   ]
  },
  {
   "cell_type": "code",
   "execution_count": 144,
   "metadata": {},
   "outputs": [
    {
     "name": "stdout",
     "output_type": "stream",
     "text": [
      "Empty DataFrame\n",
      "Columns: [name, price, product_id, category, product_page]\n",
      "Index: []\n"
     ]
    }
   ],
   "source": [
    "products_df = pd.DataFrame({'name' : [], 'price' : [], 'product_id' : [], 'category': [], 'product_page': []})"
   ]
  },
  {
   "cell_type": "code",
   "execution_count": 145,
   "metadata": {},
   "outputs": [
    {
     "name": "stdout",
     "output_type": "stream",
     "text": [
      "                                                  name   price  product_id  \\\n",
      "0    Угорь жареный мороженный 50% соуса 9/10/11  oz...  1275.5     11992.0   \n",
      "1         Угорь жареный замороженный технический 11 OZ  1836.5     12106.0   \n",
      "2    Филе желтоперого тунца Loin с/м  2-5кг, 1кг Re...   969.0      6950.0   \n",
      "3      Филе желтоперого тунца САКУ с/м  500-800гр, 1кг  1173.5     12135.0   \n",
      "4    Филе желтоперого тунца САКУ с/м  300-500гр, 1к...  1479.0       756.0   \n",
      "..                                                 ...     ...         ...   \n",
      "620                     Топпинг Малина 1л  Дольче Роса   280.0      1544.0   \n",
      "621                       Сироп Клубника 1 л Спум Фудс   290.0      1551.0   \n",
      "622                       Сироп Бабл-гам 1 л Спум Фудс   290.0      1966.0   \n",
      "623                         Сироп Малина 1 л Спум Фудс   290.0      1967.0   \n",
      "624  Бамбуковая пароварка двойная \"ResFood\" диаметр...   546.0      1453.0   \n",
      "\n",
      "                     category  \\\n",
      "0                Угорь речной   \n",
      "1                Угорь речной   \n",
      "2                       Тунец   \n",
      "3                       Тунец   \n",
      "4                       Тунец   \n",
      "..                        ...   \n",
      "620  Сиропы , топинги и смузи   \n",
      "621  Сиропы , топинги и смузи   \n",
      "622  Сиропы , топинги и смузи   \n",
      "623  Сиропы , топинги и смузи   \n",
      "624        Посуда одноразовая   \n",
      "\n",
      "                                          product_page  \n",
      "0    https://gfc-russia.ru/catalog/ryba-i-moreprodu...  \n",
      "1    https://gfc-russia.ru/catalog/ryba-i-moreprodu...  \n",
      "2    https://gfc-russia.ru/catalog/ryba-i-moreprodu...  \n",
      "3    https://gfc-russia.ru/catalog/ryba-i-moreprodu...  \n",
      "4    https://gfc-russia.ru/catalog/ryba-i-moreprodu...  \n",
      "..                                                 ...  \n",
      "620  https://gfc-russia.ru/catalog/barnaya-produkts...  \n",
      "621  https://gfc-russia.ru/catalog/barnaya-produkts...  \n",
      "622  https://gfc-russia.ru/catalog/barnaya-produkts...  \n",
      "623  https://gfc-russia.ru/catalog/barnaya-produkts...  \n",
      "624  https://gfc-russia.ru/catalog/posuda-i-upakovk...  \n",
      "\n",
      "[625 rows x 5 columns]\n"
     ]
    }
   ],
   "source": [
    "for index, row in links_df.iterrows():\n",
    "    webpage = requests.get(row['link'])\n",
    "    soup = BeautifulSoup(webpage.content, 'html.parser')\n",
    "    products = soup.find_all('div', attrs={'class': 'product_item'})\n",
    "    for prod in products:\n",
    "        name = prod['data-product_name']\n",
    "        prod_id = int(prod['data-product_id'])\n",
    "        prod_price = prod.find('div', attrs={'data-price_type': 'РОЗНИЦА Москва'})\n",
    "        price = float(prod_price['data-price_value'])\n",
    "        prod_page = prod.find('a', attrs={'class': 'product_img'})\n",
    "        page_link = prefix + prod_page['href']\n",
    "        products_df = products_df.append({'name' : name, 'price' : price, 'product_id' : prod_id, 'category' : row['category'], 'product_page': page_link}, ignore_index=True)\n",
    "print(products_df)"
   ]
  },
  {
   "cell_type": "code",
   "execution_count": 146,
   "metadata": {},
   "outputs": [],
   "source": [
    "products_df.to_excel('GFC_products.xlsx')"
   ]
  },
  {
   "cell_type": "code",
   "execution_count": null,
   "metadata": {},
   "outputs": [],
   "source": []
  },
  {
   "cell_type": "code",
   "execution_count": 147,
   "metadata": {},
   "outputs": [
    {
     "name": "stdout",
     "output_type": "stream",
     "text": [
      "                                                name   price  product_id  \\\n",
      "0  Угорь жареный мороженный 50% соуса 9/10/11  oz...  1275.5     11992.0   \n",
      "1       Угорь жареный замороженный технический 11 OZ  1836.5     12106.0   \n",
      "2  Филе желтоперого тунца Loin с/м  2-5кг, 1кг Re...   969.0      6950.0   \n",
      "3    Филе желтоперого тунца САКУ с/м  500-800гр, 1кг  1173.5     12135.0   \n",
      "4  Филе желтоперого тунца САКУ с/м  300-500гр, 1к...  1479.0       756.0   \n",
      "\n",
      "       category                                       product_page  \n",
      "0  Угорь речной  https://gfc-russia.ru/catalog/ryba-i-moreprodu...  \n",
      "1  Угорь речной  https://gfc-russia.ru/catalog/ryba-i-moreprodu...  \n",
      "2         Тунец  https://gfc-russia.ru/catalog/ryba-i-moreprodu...  \n",
      "3         Тунец  https://gfc-russia.ru/catalog/ryba-i-moreprodu...  \n",
      "4         Тунец  https://gfc-russia.ru/catalog/ryba-i-moreprodu...  \n"
     ]
    }
   ],
   "source": [
    "print(products_df.head())"
   ]
  },
  {
   "cell_type": "code",
   "execution_count": null,
   "metadata": {},
   "outputs": [],
   "source": []
  },
  {
   "cell_type": "code",
   "execution_count": null,
   "metadata": {},
   "outputs": [],
   "source": []
  }
 ],
 "metadata": {
  "kernelspec": {
   "display_name": "Python 3",
   "language": "python",
   "name": "python3"
  },
  "language_info": {
   "codemirror_mode": {
    "name": "ipython",
    "version": 3
   },
   "file_extension": ".py",
   "mimetype": "text/x-python",
   "name": "python",
   "nbconvert_exporter": "python",
   "pygments_lexer": "ipython3",
   "version": "3.7.6"
  }
 },
 "nbformat": 4,
 "nbformat_minor": 4
}
